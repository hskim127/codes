{
 "cells": [
  {
   "cell_type": "code",
   "execution_count": 3,
   "metadata": {
    "collapsed": false
   },
   "outputs": [],
   "source": [
    "import numpy as np\n",
    "import scipy as sp\n",
    "import pandas as pd\n",
    "get_ipython().magic(u'matplotlib inline')\n",
    "import matplotlib.pyplot as plt\n",
    "%matplotlib inline\n",
    "from numpy import linalg as LA\n",
    "\n",
    "import time\n",
    "\n",
    "import logistic_regression as LR\n",
    "import first_order_method as FOM\n",
    "\n",
    "import sys\n",
    "sys.path.insert(0, '/Users/HKim/Desktop/Research/Experiments/libsvm-weights-3.20/python')\n",
    "from svm import *\n",
    "from svmutil import *"
   ]
  },
  {
   "cell_type": "code",
   "execution_count": 4,
   "metadata": {
    "collapsed": false
   },
   "outputs": [
    {
     "data": {
      "text/html": [
       "<div>\n",
       "<table border=\"1\" class=\"dataframe\">\n",
       "  <thead>\n",
       "    <tr style=\"text-align: right;\">\n",
       "      <th></th>\n",
       "      <th>file name</th>\n",
       "      <th># samples (before removing empty rows)</th>\n",
       "      <th># samples (after removing empty rows)</th>\n",
       "      <th># features</th>\n",
       "      <th>classes</th>\n",
       "      <th># classes</th>\n",
       "      <th>normalized</th>\n",
       "      <th>sparse</th>\n",
       "      <th>comment</th>\n",
       "    </tr>\n",
       "  </thead>\n",
       "  <tbody>\n",
       "    <tr>\n",
       "      <th>0</th>\n",
       "      <td>news20.binary</td>\n",
       "      <td>19996</td>\n",
       "      <td>19954</td>\n",
       "      <td>1355191</td>\n",
       "      <td>[1.0, -1.0]</td>\n",
       "      <td>2</td>\n",
       "      <td>1</td>\n",
       "      <td>1</td>\n",
       "      <td>NaN</td>\n",
       "    </tr>\n",
       "    <tr>\n",
       "      <th>1</th>\n",
       "      <td>covtype.libsvm.binary</td>\n",
       "      <td>581012</td>\n",
       "      <td>581012</td>\n",
       "      <td>54</td>\n",
       "      <td>[1.0, 2.0]</td>\n",
       "      <td>2</td>\n",
       "      <td>0</td>\n",
       "      <td>1</td>\n",
       "      <td>NaN</td>\n",
       "    </tr>\n",
       "    <tr>\n",
       "      <th>2</th>\n",
       "      <td>covtype.libsvm.binary.scale</td>\n",
       "      <td>581012</td>\n",
       "      <td>581012</td>\n",
       "      <td>54</td>\n",
       "      <td>[1.0, 2.0]</td>\n",
       "      <td>2</td>\n",
       "      <td>0</td>\n",
       "      <td>1</td>\n",
       "      <td>Different from covtype.binary: every feature i...</td>\n",
       "    </tr>\n",
       "    <tr>\n",
       "      <th>3</th>\n",
       "      <td>real-sim</td>\n",
       "      <td>72309</td>\n",
       "      <td>72201</td>\n",
       "      <td>20958</td>\n",
       "      <td>[1.0, -1.0]</td>\n",
       "      <td>2</td>\n",
       "      <td>1</td>\n",
       "      <td>1</td>\n",
       "      <td>NaN</td>\n",
       "    </tr>\n",
       "    <tr>\n",
       "      <th>4</th>\n",
       "      <td>rcv1_train.binary</td>\n",
       "      <td>20242</td>\n",
       "      <td>20242</td>\n",
       "      <td>47236</td>\n",
       "      <td>[1.0, -1.0]</td>\n",
       "      <td>2</td>\n",
       "      <td>1</td>\n",
       "      <td>1</td>\n",
       "      <td>NaN</td>\n",
       "    </tr>\n",
       "    <tr>\n",
       "      <th>5</th>\n",
       "      <td>rcv1_test.binary</td>\n",
       "      <td>677399</td>\n",
       "      <td>677399</td>\n",
       "      <td>47236</td>\n",
       "      <td>[1.0, -1.0]</td>\n",
       "      <td>2</td>\n",
       "      <td>1</td>\n",
       "      <td>1</td>\n",
       "      <td>NaN</td>\n",
       "    </tr>\n",
       "  </tbody>\n",
       "</table>\n",
       "</div>"
      ],
      "text/plain": [
       "                     file name  # samples (before removing empty rows)  \\\n",
       "0                news20.binary                                   19996   \n",
       "1        covtype.libsvm.binary                                  581012   \n",
       "2  covtype.libsvm.binary.scale                                  581012   \n",
       "3                     real-sim                                   72309   \n",
       "4            rcv1_train.binary                                   20242   \n",
       "5             rcv1_test.binary                                  677399   \n",
       "\n",
       "   # samples (after removing empty rows)  # features      classes  # classes  \\\n",
       "0                                  19954     1355191  [1.0, -1.0]          2   \n",
       "1                                 581012          54   [1.0, 2.0]          2   \n",
       "2                                 581012          54   [1.0, 2.0]          2   \n",
       "3                                  72201       20958  [1.0, -1.0]          2   \n",
       "4                                  20242       47236  [1.0, -1.0]          2   \n",
       "5                                 677399       47236  [1.0, -1.0]          2   \n",
       "\n",
       "   normalized  sparse                                            comment  \n",
       "0           1       1                                                NaN  \n",
       "1           0       1                                                NaN  \n",
       "2           0       1  Different from covtype.binary: every feature i...  \n",
       "3           1       1                                                NaN  \n",
       "4           1       1                                                NaN  \n",
       "5           1       1                                                NaN  "
      ]
     },
     "execution_count": 4,
     "metadata": {},
     "output_type": "execute_result"
    }
   ],
   "source": [
    "pd.read_csv('../dataset/original/dataset_statistics.csv')"
   ]
  },
  {
   "cell_type": "code",
   "execution_count": 5,
   "metadata": {
    "collapsed": true
   },
   "outputs": [],
   "source": [
    "def compute_2norm_row(X):\n",
    "    X_tmp = X.copy()\n",
    "    X_tmp.data **= 2\n",
    "    norm_y = sp.sqrt(X_tmp.sum(1))\n",
    "    return sp.sqrt(X_tmp.sum(1))"
   ]
  },
  {
   "cell_type": "code",
   "execution_count": 6,
   "metadata": {
    "collapsed": false
   },
   "outputs": [],
   "source": [
    "def normalize_row(X):\n",
    "    row_norm = compute_2norm_row(X)\n",
    "    return sp.sparse.diags([1.0/n[0] for n in row_norm])*X"
   ]
  },
  {
   "cell_type": "code",
   "execution_count": 7,
   "metadata": {
    "collapsed": false
   },
   "outputs": [],
   "source": [
    "def data_parsing(X,y):\n",
    "#     # Removing empty data\n",
    "#     empty_idx = []\n",
    "#     for i in xrange(len(X)):\n",
    "#         if len(X[i].keys()) == 0:\n",
    "#             empty_idx.append(i)\n",
    "#             continue\n",
    "#     n_deleted = 0\n",
    "#     for idx in empty_idx:\n",
    "#         del X[idx-n_deleted]\n",
    "#         del y[idx-n_deleted]\n",
    "#         n_deleted += 1\n",
    "\n",
    "    # The number of samples\n",
    "    n_samples = len(X)\n",
    "\n",
    "    # Feature dimension\n",
    "    dim = max([max(xi.keys()) for xi in X])\n",
    "    \n",
    "    # Convert to a scipy sparse row matrix\n",
    "    XX = sp.sparse.dok_matrix((n_samples,dim), dtype=float)\n",
    "    for i in xrange(len(X)):\n",
    "        for key in X[i].keys():\n",
    "            j = key-1\n",
    "            XX[i,j] = X[i][key]\n",
    "    XX = XX.tocsr()\n",
    "    \n",
    "    # Normalize feature vectors\n",
    "#     XX = normalize_row(XX)\n",
    "    return XX, y"
   ]
  },
  {
   "cell_type": "code",
   "execution_count": 8,
   "metadata": {
    "collapsed": false
   },
   "outputs": [],
   "source": [
    "# def main():\n",
    "# Read the data\n",
    "y_trn, X_trn = svm_read_problem('/Users/HKim/Desktop/Research/Experiments/dataset/rcv1_train.binary')\n",
    "# y_tst, X_tst = svm_read_problem('/Users/HKim/Desktop/Research/Experiments/dataset/rcv1_test.binary')"
   ]
  },
  {
   "cell_type": "code",
   "execution_count": 9,
   "metadata": {
    "collapsed": false
   },
   "outputs": [],
   "source": [
    "X_trn, y_trn = data_parsing(X_trn, y_trn)\n",
    "# X_tst, y_tst = data_parsing(X_tst, y_tst)\n",
    "\n",
    "# The number of samples\n",
    "n_sample = X_trn.shape[0]"
   ]
  },
  {
   "cell_type": "code",
   "execution_count": 10,
   "metadata": {
    "collapsed": false
   },
   "outputs": [],
   "source": [
    "# Generate the problem: Logistic-regression\n",
    "data = {'X_train':X_trn, 'y_train':y_trn}#, 'X_test': X_tst, 'y_test': y_tst}\n",
    "parameters = {\"lambda\":2.0/n_sample}\n",
    "problem = LR.BinaryLogisticRegression(data, parameters)"
   ]
  },
  {
   "cell_type": "code",
   "execution_count": 11,
   "metadata": {
    "collapsed": false
   },
   "outputs": [],
   "source": [
    "param_method = {\"step-size\":1e-3, \"# max-pass\":100, \"epsilon\":1e-3,\n",
    "                \"result_stored\":{'trn_loss':True,'tst_loss':False,'trn_err':True,'tst_err':False,\n",
    "                                 'norm_grad':True,'n_grad_comp':True}}"
   ]
  },
  {
   "cell_type": "code",
   "execution_count": 12,
   "metadata": {
    "collapsed": false
   },
   "outputs": [
    {
     "name": "stdout",
     "output_type": "stream",
     "text": [
      "2.15321302414\n"
     ]
    }
   ],
   "source": [
    "# Generate the problem: Logistic-regression\n",
    "problem = LR.BinaryLogisticRegression(data, parameters)\n",
    "\n",
    "tic = time.time()\n",
    "param_method['step-size'] = 10\n",
    "# Full gradient\n",
    "fgd = FOM.FirstOrderMethod(problem, 'fgd', param_method)\n",
    "# Do optimization\n",
    "fgd.do_optimization()\n",
    "# print fgd.get_result(\"trn_loss\")\n",
    "print time.time()-tic"
   ]
  },
  {
   "cell_type": "code",
   "execution_count": null,
   "metadata": {
    "collapsed": false
   },
   "outputs": [],
   "source": [
    "# Generate the problem: Logistic-regression\n",
    "problem = LR.BinaryLogisticRegression(data, parameters)\n",
    "\n",
    "tic = time.time()\n",
    "param_method['step-size'] = 1\n",
    "# SVRG (m=n)\n",
    "svrg = FOM.FirstOrderMethod(problem, 'svrg', param_method)\n",
    "svrg.set_epoch_size(problem.get_n_sample())\n",
    "# Do optimization\n",
    "svrg.do_optimization()\n",
    "# print svrg.get_result('norm_grad')\n",
    "print time.time()-tic"
   ]
  },
  {
   "cell_type": "code",
   "execution_count": 25,
   "metadata": {
    "collapsed": false
   },
   "outputs": [
    {
     "data": {
      "text/plain": [
       "<matplotlib.text.Text at 0x1254d84d0>"
      ]
     },
     "execution_count": 25,
     "metadata": {},
     "output_type": "execute_result"
    },
    {
     "data": {
      "image/png": "[encoded data removed]",
      "text/plain": [
       "<matplotlib.figure.Figure at 0x121c16090>"
      ]
     },
     "metadata": {},
     "output_type": "display_data"
    },
    {
     "data": {
      "image/png": "[encoded data removed]",
      "text/plain": [
       "<matplotlib.figure.Figure at 0x12032e450>"
      ]
     },
     "metadata": {},
     "output_type": "display_data"
    },
    {
     "data": {
      "image/png": "[encoded data removed]",
      "text/plain": [
       "<matplotlib.figure.Figure at 0x12af46bd0>"
      ]
     },
     "metadata": {},
     "output_type": "display_data"
    }
   ],
   "source": [
    "x_gd = [pass_/float(n_sample) for pass_ in fgd.get_result('n_grad_comp')]\n",
    "x_svrg = [pass_/float(n_sample) for pass_ in svrg.get_result('n_grad_comp')]\n",
    "\n",
    "# Loss\n",
    "plt.figure()\n",
    "plt.semilogy(x_gd, fgd.get_result('trn_loss'), 'r--',label='trn loss (GD)')\n",
    "plt.semilogy(x_svrg, svrg.get_result('trn_loss'), 'k-',label='trn loss (SVRG)')\n",
    "# plt.semilogy(x_gd, fgd.get_result('tst_loss'), 'b-',label='tst loss (GD)')\n",
    "plt.legend()\n",
    "plt.xlim(-0.1*max(x_gd[-1],x_svrg[-1]),1.1*max(x_gd[-1],x_svrg[-1]))\n",
    "plt.grid()\n",
    "plt.title('trn_loss')\n",
    "\n",
    "# Error\n",
    "plt.figure()\n",
    "plt.semilogy(x_gd, fgd.get_result('trn_err'), 'r--',label='trn err (GD)')\n",
    "plt.semilogy(x_svrg, svrg.get_result('trn_err'), 'k-',label='trn err (SVRG)')\n",
    "\n",
    "# plt.semilogy(x_gd, fgd.get_result('tst_err'), 'b-',label='tst err (GD)')\n",
    "plt.legend()\n",
    "plt.xlim([-0.01*max(x_gd[-1], x_svrg[-1]),1.01*max(x_gd[-1], x_svrg[-1])])\n",
    "plt.grid()\n",
    "plt.title('trn_err')\n",
    "\n",
    "# Norm of gradient\n",
    "plt.figure()\n",
    "plt.semilogy(x_gd, fgd.get_result('norm_grad'), 'r--',label='GD')\n",
    "plt.semilogy(x_svrg, svrg.get_result('norm_grad'), 'k-',label='SVRG')\n",
    "plt.semilogy([-0.1*max(x_gd[-1],x_svrg[-1]),1.1*max(x_gd[-1],x_svrg[-1])],\n",
    "             [param_method['epsilon'],param_method['epsilon']], 'r-.',label='threshold-norm of gradient')\n",
    "plt.legend()\n",
    "plt.xlim([-0.01*max(x_gd[-1], x_svrg[-1]),1.01*max(x_gd[-1], x_svrg[-1])])\n",
    "plt.ylim(bottom=param_method['epsilon']/2)\n",
    "plt.grid()\n",
    "plt.title('norm of gradient')"
   ]
  },
  {
   "cell_type": "code",
   "execution_count": 23,
   "metadata": {
    "collapsed": false
   },
   "outputs": [
    {
     "data": {
      "text/plain": [
       "[-1.02, 103.02]"
      ]
     },
     "execution_count": 23,
     "metadata": {},
     "output_type": "execute_result"
    }
   ],
   "source": [
    "1\n"
   ]
  },
  {
   "cell_type": "code",
   "execution_count": 142,
   "metadata": {
    "collapsed": false
   },
   "outputs": [
    {
     "data": {
      "text/plain": [
       "0.001"
      ]
     },
     "execution_count": 142,
     "metadata": {},
     "output_type": "execute_result"
    }
   ],
   "source": [
    "param_method['epsilon']"
   ]
  },
  {
   "cell_type": "code",
   "execution_count": null,
   "metadata": {
    "collapsed": true
   },
   "outputs": [],
   "source": [
    "param_method['step-size'] = 1e-4\n",
    "# Stochastic gradient\n",
    "sgd = FOM.FirstOrderMethod(problem, 'sgd', param_method)\n",
    "# Do optimization\n",
    "sgd.do_optimization()"
   ]
  },
  {
   "cell_type": "code",
   "execution_count": null,
   "metadata": {
    "collapsed": true
   },
   "outputs": [],
   "source": [
    "param_method['step-size'] = 1e-5\n",
    "# SVRG\n",
    "svrg = FOM.FirstOrderMethod(problem, 'svrg', param_method)\n",
    "svrg.set_epoch_size(problem.get_n_sample())\n",
    "# Do optimization\n",
    "svrg.do_optimization()"
   ]
  },
  {
   "cell_type": "code",
   "execution_count": 14,
   "metadata": {
    "collapsed": false
   },
   "outputs": [
    {
     "data": {
      "image/png": "[encoded data removed]",
      "text/plain": [
       "<matplotlib.figure.Figure at 0x10af0f650>"
      ]
     },
     "metadata": {},
     "output_type": "display_data"
    }
   ],
   "source": [
    "# Plot the results\n",
    "# Plot the rate of convergence\n",
    "plt.figure()\n",
    "plt.semilogy(fgd.get_result(\"n_grad_comp\"), fgd.get_result(\"trn_loss\"),\n",
    "             'r--',label='GD')\n",
    "plt.semilogy(sgd.get_result(\"n_grad_comp\"), sgd.get_result(\"trn_loss\"),\n",
    "             'b--',label='SGD')\n",
    "plt.semilogy(svrg.get_result(\"n_grad_comp\"), svrg.get_result(\"trn_loss\"),\n",
    "             'm-.',label='SVRG')\n",
    "\n",
    "# plt.semilogy(n_comp_grad_pim[\"2N\"], obj_val_svrg[\"2N\"],'m-',label='SVRG (m=2N)')\n",
    "# plt.semilogy(n_comp_grad_pim[\"N\"],  obj_val_svrg[\"N\"],'r-',label='SVRG (m=N)')\n",
    "# plt.semilogy(n_comp_grad_pim[\"N/2\"], obj_val_svrg[\"N/2\"],'b-',label='SVRG (m=N/2)')\n",
    "# plt.semilogy(n_comp_grad_pim[\"N/4\"], obj_val_svrg[\"N/4\"],'k-',label='SVRG (m=N/4)')\n",
    "# plt.semilogy(n_comp_grad_pim[\"N/8\"], obj_val_svrg[\"N/8\"],'g-',label='SVRG (m=N/8)')\n",
    "plt.xlabel('# grad computation/n')\n",
    "plt.ylabel('Training loss')\n",
    "plt.title('Logistic regression (rcv dataset)')\n",
    "plt.legend()\n",
    "plt.grid()\n",
    "plt.show()"
   ]
  },
  {
   "cell_type": "code",
   "execution_count": 43,
   "metadata": {
    "collapsed": false
   },
   "outputs": [],
   "source": [
    "if __name__ == '__main__':\n",
    "    main()"
   ]
  },
  {
   "cell_type": "code",
   "execution_count": null,
   "metadata": {
    "collapsed": true
   },
   "outputs": [],
   "source": []
  }
 ],
 "metadata": {
  "kernelspec": {
   "display_name": "Python 2",
   "language": "python",
   "name": "python2"
  },
  "language_info": {
   "codemirror_mode": {
    "name": "ipython",
    "version": 2
   },
   "file_extension": ".py",
   "mimetype": "text/x-python",
   "name": "python",
   "nbconvert_exporter": "python",
   "pygments_lexer": "ipython2",
   "version": "2.7.11"
  }
 },
 "nbformat": 4,
 "nbformat_minor": 0
}
