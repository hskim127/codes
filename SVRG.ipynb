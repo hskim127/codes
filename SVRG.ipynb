{
 "cells": [
  {
   "cell_type": "code",
   "execution_count": 2,
   "metadata": {
    "collapsed": false
   },
   "outputs": [],
   "source": [
    "import numpy as np\n",
    "import scipy as sp\n",
    "import pandas as pd\n",
    "get_ipython().magic(u'matplotlib inline')\n",
    "import matplotlib.pyplot as plt\n",
    "%matplotlib inline\n",
    "from numpy import linalg as LA\n",
    "\n",
    "import time\n",
    "\n",
    "import logistic_regression as LR\n",
    "import first_order_method as FOM\n",
    "\n",
    "import sys\n",
    "sys.path.insert(0, '/Users/HKim/Desktop/Research/Experiments/libsvm-weights-3.20/python')\n",
    "from svm import *\n",
    "from svmutil import *"
   ]
  },
  {
   "cell_type": "code",
   "execution_count": 3,
   "metadata": {
    "collapsed": false
   },
   "outputs": [
    {
     "data": {
      "text/html": [
       "<div>\n",
       "<table border=\"1\" class=\"dataframe\">\n",
       "  <thead>\n",
       "    <tr style=\"text-align: right;\">\n",
       "      <th></th>\n",
       "      <th>file name</th>\n",
       "      <th># samples (before removing empty rows)</th>\n",
       "      <th># samples (after removing empty rows)</th>\n",
       "      <th># features</th>\n",
       "      <th>classes</th>\n",
       "      <th># classes</th>\n",
       "      <th>normalized</th>\n",
       "      <th>sparse</th>\n",
       "      <th>comment</th>\n",
       "    </tr>\n",
       "  </thead>\n",
       "  <tbody>\n",
       "    <tr>\n",
       "      <th>0</th>\n",
       "      <td>news20.binary</td>\n",
       "      <td>19996</td>\n",
       "      <td>19954</td>\n",
       "      <td>1355191</td>\n",
       "      <td>[1.0, -1.0]</td>\n",
       "      <td>2</td>\n",
       "      <td>1</td>\n",
       "      <td>1</td>\n",
       "      <td>NaN</td>\n",
       "    </tr>\n",
       "    <tr>\n",
       "      <th>1</th>\n",
       "      <td>covtype.libsvm.binary</td>\n",
       "      <td>581012</td>\n",
       "      <td>581012</td>\n",
       "      <td>54</td>\n",
       "      <td>[1.0, 2.0]</td>\n",
       "      <td>2</td>\n",
       "      <td>0</td>\n",
       "      <td>1</td>\n",
       "      <td>NaN</td>\n",
       "    </tr>\n",
       "    <tr>\n",
       "      <th>2</th>\n",
       "      <td>covtype.libsvm.binary.scale</td>\n",
       "      <td>581012</td>\n",
       "      <td>581012</td>\n",
       "      <td>54</td>\n",
       "      <td>[1.0, 2.0]</td>\n",
       "      <td>2</td>\n",
       "      <td>0</td>\n",
       "      <td>1</td>\n",
       "      <td>Different from covtype.binary: every feature i...</td>\n",
       "    </tr>\n",
       "    <tr>\n",
       "      <th>3</th>\n",
       "      <td>real-sim</td>\n",
       "      <td>72309</td>\n",
       "      <td>72201</td>\n",
       "      <td>20958</td>\n",
       "      <td>[1.0, -1.0]</td>\n",
       "      <td>2</td>\n",
       "      <td>1</td>\n",
       "      <td>1</td>\n",
       "      <td>NaN</td>\n",
       "    </tr>\n",
       "    <tr>\n",
       "      <th>4</th>\n",
       "      <td>rcv1_train.binary</td>\n",
       "      <td>20242</td>\n",
       "      <td>20242</td>\n",
       "      <td>47236</td>\n",
       "      <td>[1.0, -1.0]</td>\n",
       "      <td>2</td>\n",
       "      <td>1</td>\n",
       "      <td>1</td>\n",
       "      <td>NaN</td>\n",
       "    </tr>\n",
       "    <tr>\n",
       "      <th>5</th>\n",
       "      <td>rcv1_test.binary</td>\n",
       "      <td>677399</td>\n",
       "      <td>677399</td>\n",
       "      <td>47236</td>\n",
       "      <td>[1.0, -1.0]</td>\n",
       "      <td>2</td>\n",
       "      <td>1</td>\n",
       "      <td>1</td>\n",
       "      <td>NaN</td>\n",
       "    </tr>\n",
       "  </tbody>\n",
       "</table>\n",
       "</div>"
      ],
      "text/plain": [
       "                     file name  # samples (before removing empty rows)  \\\n",
       "0                news20.binary                                   19996   \n",
       "1        covtype.libsvm.binary                                  581012   \n",
       "2  covtype.libsvm.binary.scale                                  581012   \n",
       "3                     real-sim                                   72309   \n",
       "4            rcv1_train.binary                                   20242   \n",
       "5             rcv1_test.binary                                  677399   \n",
       "\n",
       "   # samples (after removing empty rows)  # features      classes  # classes  \\\n",
       "0                                  19954     1355191  [1.0, -1.0]          2   \n",
       "1                                 581012          54   [1.0, 2.0]          2   \n",
       "2                                 581012          54   [1.0, 2.0]          2   \n",
       "3                                  72201       20958  [1.0, -1.0]          2   \n",
       "4                                  20242       47236  [1.0, -1.0]          2   \n",
       "5                                 677399       47236  [1.0, -1.0]          2   \n",
       "\n",
       "   normalized  sparse                                            comment  \n",
       "0           1       1                                                NaN  \n",
       "1           0       1                                                NaN  \n",
       "2           0       1  Different from covtype.binary: every feature i...  \n",
       "3           1       1                                                NaN  \n",
       "4           1       1                                                NaN  \n",
       "5           1       1                                                NaN  "
      ]
     },
     "execution_count": 3,
     "metadata": {},
     "output_type": "execute_result"
    }
   ],
   "source": [
    "xx = pd.read_csv('../dataset/original/dataset_statistics.csv')\n",
    "xx"
   ]
  },
  {
   "cell_type": "code",
   "execution_count": 4,
   "metadata": {
    "collapsed": true
   },
   "outputs": [],
   "source": [
    "def compute_2norm_row(X):\n",
    "    X_tmp = X.copy()\n",
    "    X_tmp.data **= 2\n",
    "    norm_y = sp.sqrt(X_tmp.sum(1))\n",
    "    return sp.sqrt(X_tmp.sum(1))"
   ]
  },
  {
   "cell_type": "code",
   "execution_count": 5,
   "metadata": {
    "collapsed": false
   },
   "outputs": [],
   "source": [
    "def normalize_row(X):\n",
    "    row_norm = compute_2norm_row(X)\n",
    "    return sp.sparse.diags([1.0/n[0] for n in row_norm])*X"
   ]
  },
  {
   "cell_type": "code",
   "execution_count": 6,
   "metadata": {
    "collapsed": false
   },
   "outputs": [],
   "source": [
    "def data_parsing(X,y):\n",
    "#     # Removing empty data\n",
    "#     empty_idx = []\n",
    "#     for i in xrange(len(X)):\n",
    "#         if len(X[i].keys()) == 0:\n",
    "#             empty_idx.append(i)\n",
    "#             continue\n",
    "#     n_deleted = 0\n",
    "#     for idx in empty_idx:\n",
    "#         del X[idx-n_deleted]\n",
    "#         del y[idx-n_deleted]\n",
    "#         n_deleted += 1\n",
    "\n",
    "    # The number of samples\n",
    "    n_samples = len(X)\n",
    "\n",
    "    # Feature dimension\n",
    "    dim = max([max(xi.keys()) for xi in X])\n",
    "    \n",
    "    # Convert from dictionary to a scipy sparse row matrix\n",
    "    XX = sp.sparse.dok_matrix((n_samples,dim), dtype=float)\n",
    "    for i in xrange(len(X)):\n",
    "        for key, value in X[i].iteritems():\n",
    "            XX[i,key-1] = value\n",
    "    XX = XX.tocsr()\n",
    "    \n",
    "    # Normalize feature vectors\n",
    "#     XX = normalize_row(XX)\n",
    "    return XX, y"
   ]
  },
  {
   "cell_type": "code",
   "execution_count": 7,
   "metadata": {
    "collapsed": false
   },
   "outputs": [],
   "source": [
    "# def main():\n",
    "# Read the data\n",
    "y_trn, X_trn = svm_read_problem('/Users/HKim/Desktop/Research/Experiments/dataset/rcv1_train.binary')\n",
    "# y_tst, X_tst = svm_read_problem('/Users/HKim/Desktop/Research/Experiments/dataset/rcv1_test.binary')"
   ]
  },
  {
   "cell_type": "code",
   "execution_count": 8,
   "metadata": {
    "collapsed": false
   },
   "outputs": [],
   "source": [
    "X_trn, y_trn = data_parsing(X_trn, y_trn)\n",
    "# X_tst, y_tst = data_parsing(X_tst, y_tst)\n",
    "\n",
    "# The number of samples\n",
    "n_sample = X_trn.shape[0]"
   ]
  },
  {
   "cell_type": "code",
   "execution_count": 9,
   "metadata": {
    "collapsed": true
   },
   "outputs": [],
   "source": [
    "# Define the problem: setting the paramters of logistic regression\n",
    "data = {'X_train':X_trn, 'y_train':y_trn}#, 'X_test': X_tst, 'y_test': y_tst}\n",
    "parameters = {\"lambda\":2.0/n_sample}"
   ]
  },
  {
   "cell_type": "code",
   "execution_count": 10,
   "metadata": {
    "collapsed": false
   },
   "outputs": [],
   "source": [
    "param_method = {\"step-size\":1e-3, \"# max-pass\":10, \"epsilon\":1e-3,\n",
    "                \"result_stored\":{'trn_loss':True,'tst_loss':False,'trn_err':True,'tst_err':False,\n",
    "                                 'norm_grad':True,'n_grad_comp':True}}"
   ]
  },
  {
   "cell_type": "code",
   "execution_count": 11,
   "metadata": {
    "collapsed": false
   },
   "outputs": [
    {
     "name": "stdout",
     "output_type": "stream",
     "text": [
      "0.353339195251\n"
     ]
    }
   ],
   "source": [
    "# Generate the problem: Logistic-regression\n",
    "problem = LR.BinaryLogisticRegression(data, parameters)\n",
    "\n",
    "tic = time.time()\n",
    "param_method['step-size'] = 10\n",
    "# Full gradient\n",
    "fgd = FOM.FirstOrderMethod(problem, 'fgd', param_method)\n",
    "# Do optimization\n",
    "fgd.do_optimization()\n",
    "# print fgd.get_result(\"trn_loss\")\n",
    "print time.time()-tic"
   ]
  },
  {
   "cell_type": "code",
   "execution_count": 13,
   "metadata": {
    "collapsed": false
   },
   "outputs": [
    {
     "name": "stdout",
     "output_type": "stream",
     "text": [
      "epoch size: n 418.151708841\n",
      "epoch size: n/2 211.268537998\n",
      "epoch size: n/4 135.703274012\n",
      "epoch size: n/8 67.4810228348\n"
     ]
    }
   ],
   "source": [
    "# Generate the problem: Logistic-regression\n",
    "problem = LR.BinaryLogisticRegression(data, parameters)\n",
    "\n",
    "tic = time.time()\n",
    "param_method['step-size'] = 5e-1\n",
    "# SVRG (m=n/2)\n",
    "\n",
    "svrg = []\n",
    "problem = LR.BinaryLogisticRegression(data, parameters)\n",
    "svrg.append(FOM.FirstOrderMethod(problem, 'svrg', param_method))\n",
    "svrg[-1].set_epoch_size(problem.get_n_sample())\n",
    "problem = LR.BinaryLogisticRegression(data, parameters)\n",
    "svrg.append(FOM.FirstOrderMethod(problem, 'svrg', param_method))\n",
    "svrg[-1].set_epoch_size(problem.get_n_sample()/2)\n",
    "problem = LR.BinaryLogisticRegression(data, parameters)\n",
    "svrg.append(FOM.FirstOrderMethod(problem, 'svrg', param_method))\n",
    "svrg[-1].set_epoch_size(problem.get_n_sample()/4)\n",
    "problem = LR.BinaryLogisticRegression(data, parameters)\n",
    "svrg.append(FOM.FirstOrderMethod(problem, 'svrg', param_method))\n",
    "svrg[-1].set_epoch_size(problem.get_n_sample()/8)\n",
    "\n",
    "epoch_sizes = ['n','n/2','n/4','n/8']\n",
    "svrg = dict(zip(epoch_sizes, svrg))\n",
    "# Do optimization\n",
    "for _key_ in epoch_sizes:\n",
    "    tic = time.time()\n",
    "    svrg[_key_].do_optimization()\n",
    "    print 'epoch size:', _key_, time.time()-tic"
   ]
  },
  {
   "cell_type": "code",
   "execution_count": 16,
   "metadata": {
    "collapsed": false
   },
   "outputs": [
    {
     "name": "stdout",
     "output_type": "stream",
     "text": [
      "epoch size: n 488.535475969\n",
      "epoch size: n/2 245.836379051\n",
      "epoch size: n/4 155.847065926\n",
      "epoch size: n/8 71.856924057\n"
     ]
    }
   ],
   "source": [
    "# Generate the problem: Logistic-regression\n",
    "problem = LR.BinaryLogisticRegression(data, parameters)\n",
    "\n",
    "tic = time.time()\n",
    "param_method['step-size'] = 5e-1\n",
    "# SVRG (m=n/2)\n",
    "\n",
    "svrg = []\n",
    "problem = LR.BinaryLogisticRegression(data, parameters)\n",
    "svrg.append(FOM.FirstOrderMethod(problem, 'svrg', param_method))\n",
    "svrg[-1].set_epoch_size(problem.get_n_sample())\n",
    "problem = LR.BinaryLogisticRegression(data, parameters)\n",
    "svrg.append(FOM.FirstOrderMethod(problem, 'svrg', param_method))\n",
    "svrg[-1].set_epoch_size(problem.get_n_sample()/2)\n",
    "problem = LR.BinaryLogisticRegression(data, parameters)\n",
    "svrg.append(FOM.FirstOrderMethod(problem, 'svrg', param_method))\n",
    "svrg[-1].set_epoch_size(problem.get_n_sample()/4)\n",
    "problem = LR.BinaryLogisticRegression(data, parameters)\n",
    "svrg.append(FOM.FirstOrderMethod(problem, 'svrg', param_method))\n",
    "svrg[-1].set_epoch_size(problem.get_n_sample()/8)\n",
    "\n",
    "epoch_sizes = ['n','n/2','n/4','n/8']\n",
    "svrg = dict(zip(epoch_sizes, svrg))\n",
    "# Do optimization\n",
    "for _key_ in epoch_sizes:\n",
    "    tic = time.time()\n",
    "    svrg[_key_].do_optimization()\n",
    "    print 'epoch size:', _key_, time.time()-tic"
   ]
  },
  {
   "cell_type": "code",
   "execution_count": 243,
   "metadata": {
    "collapsed": false
   },
   "outputs": [],
   "source": [
    "# Reshape Update History --> pandas dataframe\n",
    "\n",
    "update_history = []\n",
    "gd_history = [('Algorithm', ['GD' for i in fgd.results[fgd.results.keys()[0]]])]\n",
    "for key2, val2 in fgd.results.iteritems():\n",
    "    if len(val2): # check if the item is empty or not\n",
    "        if key2 is 'n_grad_comp':\n",
    "            key_tmp = 'effective pass'\n",
    "            val_tmp = [i/float(n_sample) for i in val2]\n",
    "        else:\n",
    "            key_tmp = key2\n",
    "            val_tmp = val2\n",
    "        gd_history += [(key_tmp,val_tmp)]\n",
    "\n",
    "# gd_history += [(key,val) for key,val in fgd.results.iteritems() if len(val)]\n",
    "update_history.append(('GD', pd.DataFrame.from_items(gd_history)))\n",
    "\n",
    "for key in epoch_sizes:\n",
    "    val = svrg[key]\n",
    "    svrg_history = [('Algorithm', ['SVRG (m='+key+')' for i in val.results[val.results.keys()[0]]])]\n",
    "    for key2, val2 in val.results.iteritems():\n",
    "        if len(val2): # check if the item is empty or not\n",
    "            if key2 is 'n_grad_comp':\n",
    "                effective_pass = [i/float(n_sample) for i in val2]\n",
    "                svrg_history += [('effective pass',effective_pass)]\n",
    "                \n",
    "                # Start computation for PIM\n",
    "                # Compute # of gradient computations when the computations of full gradient is not taken into account.\n",
    "                val2\n",
    "                effective_pass = []\n",
    "                nn = 0\n",
    "                for _n_grad_comp_ in val2:\n",
    "                    effective_pass.append((_n_grad_comp_+nn)/float(n_sample))\n",
    "                    nn -= n_sample\n",
    "                # End computation for PIM\n",
    "                svrg_history += [('effective pass (PIM)',effective_pass)]\n",
    "            else:\n",
    "                key_tmp = key2\n",
    "                val_tmp = val2\n",
    "                svrg_history += [(key_tmp,val_tmp)]\n",
    "    update_history.append(('svrg ('+key+')', pd.DataFrame.from_items(svrg_history)))\n",
    "    \n",
    "update_history = dict(update_history)"
   ]
  },
  {
   "cell_type": "code",
   "execution_count": 258,
   "metadata": {
    "collapsed": false
   },
   "outputs": [
    {
     "data": {
      "text/html": [
       "<div>\n",
       "<table border=\"1\" class=\"dataframe\">\n",
       "  <thead>\n",
       "    <tr style=\"text-align: right;\">\n",
       "      <th></th>\n",
       "      <th>Algorithm</th>\n",
       "      <th>trn_err</th>\n",
       "      <th>norm_grad</th>\n",
       "      <th>trn_loss</th>\n",
       "      <th>effective pass</th>\n",
       "      <th>effective pass (PIM)</th>\n",
       "    </tr>\n",
       "  </thead>\n",
       "  <tbody>\n",
       "    <tr>\n",
       "      <th>0</th>\n",
       "      <td>SVRG (m=n/2)</td>\n",
       "      <td>0.481721</td>\n",
       "      <td>0.030613</td>\n",
       "      <td>0.693147</td>\n",
       "      <td>0.0</td>\n",
       "      <td>0.0</td>\n",
       "    </tr>\n",
       "    <tr>\n",
       "      <th>1</th>\n",
       "      <td>SVRG (m=n/2)</td>\n",
       "      <td>0.061852</td>\n",
       "      <td>0.014041</td>\n",
       "      <td>0.422295</td>\n",
       "      <td>1.5</td>\n",
       "      <td>0.5</td>\n",
       "    </tr>\n",
       "    <tr>\n",
       "      <th>2</th>\n",
       "      <td>SVRG (m=n/2)</td>\n",
       "      <td>0.054985</td>\n",
       "      <td>0.008253</td>\n",
       "      <td>0.340234</td>\n",
       "      <td>3.0</td>\n",
       "      <td>1.0</td>\n",
       "    </tr>\n",
       "    <tr>\n",
       "      <th>3</th>\n",
       "      <td>SVRG (m=n/2)</td>\n",
       "      <td>0.051774</td>\n",
       "      <td>0.005444</td>\n",
       "      <td>0.304212</td>\n",
       "      <td>4.5</td>\n",
       "      <td>1.5</td>\n",
       "    </tr>\n",
       "    <tr>\n",
       "      <th>4</th>\n",
       "      <td>SVRG (m=n/2)</td>\n",
       "      <td>0.047080</td>\n",
       "      <td>0.003789</td>\n",
       "      <td>0.285255</td>\n",
       "      <td>6.0</td>\n",
       "      <td>2.0</td>\n",
       "    </tr>\n",
       "    <tr>\n",
       "      <th>5</th>\n",
       "      <td>SVRG (m=n/2)</td>\n",
       "      <td>0.045302</td>\n",
       "      <td>0.002647</td>\n",
       "      <td>0.275089</td>\n",
       "      <td>7.5</td>\n",
       "      <td>2.5</td>\n",
       "    </tr>\n",
       "    <tr>\n",
       "      <th>6</th>\n",
       "      <td>SVRG (m=n/2)</td>\n",
       "      <td>0.042091</td>\n",
       "      <td>0.002018</td>\n",
       "      <td>0.269909</td>\n",
       "      <td>9.0</td>\n",
       "      <td>3.0</td>\n",
       "    </tr>\n",
       "    <tr>\n",
       "      <th>7</th>\n",
       "      <td>SVRG (m=n/2)</td>\n",
       "      <td>0.041547</td>\n",
       "      <td>0.001702</td>\n",
       "      <td>0.267366</td>\n",
       "      <td>10.5</td>\n",
       "      <td>3.5</td>\n",
       "    </tr>\n",
       "  </tbody>\n",
       "</table>\n",
       "</div>"
      ],
      "text/plain": [
       "      Algorithm   trn_err  norm_grad  trn_loss  effective pass  \\\n",
       "0  SVRG (m=n/2)  0.481721   0.030613  0.693147             0.0   \n",
       "1  SVRG (m=n/2)  0.061852   0.014041  0.422295             1.5   \n",
       "2  SVRG (m=n/2)  0.054985   0.008253  0.340234             3.0   \n",
       "3  SVRG (m=n/2)  0.051774   0.005444  0.304212             4.5   \n",
       "4  SVRG (m=n/2)  0.047080   0.003789  0.285255             6.0   \n",
       "5  SVRG (m=n/2)  0.045302   0.002647  0.275089             7.5   \n",
       "6  SVRG (m=n/2)  0.042091   0.002018  0.269909             9.0   \n",
       "7  SVRG (m=n/2)  0.041547   0.001702  0.267366            10.5   \n",
       "\n",
       "   effective pass (PIM)  \n",
       "0                   0.0  \n",
       "1                   0.5  \n",
       "2                   1.0  \n",
       "3                   1.5  \n",
       "4                   2.0  \n",
       "5                   2.5  \n",
       "6                   3.0  \n",
       "7                   3.5  "
      ]
     },
     "execution_count": 258,
     "metadata": {},
     "output_type": "execute_result"
    }
   ],
   "source": [
    "update_history[update_history.keys()[4]]\n",
    "# update_history.keys()\n",
    "# update_history[update_history.keys()[1]]\n",
    "# update_history[update_history.keys()[2]]\n",
    "# update_history[update_history.keys()[3]]\n",
    "# update_history[update_history.keys()[4]]"
   ]
  },
  {
   "cell_type": "code",
   "execution_count": 270,
   "metadata": {
    "collapsed": false
   },
   "outputs": [
    {
     "data": {
      "text/plain": [
       "<matplotlib.text.Text at 0x116486750>"
      ]
     },
     "execution_count": 270,
     "metadata": {},
     "output_type": "execute_result"
    },
    {
     "data": {
      "image/png": "[encoded data removed]",
      "text/plain": [
       "<matplotlib.figure.Figure at 0x1299eced0>"
      ]
     },
     "metadata": {},
     "output_type": "display_data"
    },
    {
     "data": {
      "image/png": "[encoded data removed]",
      "text/plain": [
       "<matplotlib.figure.Figure at 0x12499d0d0>"
      ]
     },
     "metadata": {},
     "output_type": "display_data"
    },
    {
     "data": {
      "image/png": "[encoded data removed]",
      "text/plain": [
       "<matplotlib.figure.Figure at 0x12499da10>"
      ]
     },
     "metadata": {},
     "output_type": "display_data"
    },
    {
     "data": {
      "image/png": "[encoded data removed]",
      "text/plain": [
       "<matplotlib.figure.Figure at 0x116637d50>"
      ]
     },
     "metadata": {},
     "output_type": "display_data"
    }
   ],
   "source": [
    "pass_max = max([i['effective pass'].values[-1] for i in update_history.values()])\n",
    "\n",
    "# Loss\n",
    "_result_ = 'trn_loss'\n",
    "plt.figure()\n",
    "plt.semilogy(update_history['GD']['effective pass'], update_history['GD'][_result_], 'r--', label='GD')\n",
    "for m in ['n','n/2','n/4','n/8']:\n",
    "    _key_ = 'svrg ('+m+')'\n",
    "    plt.semilogy(update_history[_key_]['effective pass'], update_history[_key_][_result_], label=_key_)\n",
    "plt.legend(bbox_to_anchor=(1.05, 1), loc=2, borderaxespad=0.)\n",
    "plt.xlim(-0.01*pass_max, 1.01*pass_max)\n",
    "plt.grid()\n",
    "plt.title('Logistic regression')\n",
    "plt.xlabel('Effective pass (iteration / #sample)')\n",
    "plt.ylabel('Training loss')\n",
    "\n",
    "# Loss (PIM)\n",
    "_result_ = 'trn_loss'\n",
    "plt.figure()\n",
    "plt.semilogy(update_history['GD']['effective pass'], update_history['GD'][_result_], 'r--', label='GD')\n",
    "for m in ['n','n/2','n/4','n/8']:\n",
    "    _key_ = 'svrg ('+m+')'\n",
    "    plt.semilogy(update_history[_key_]['effective pass (PIM)'], update_history[_key_][_result_], label=_key_)\n",
    "plt.legend(bbox_to_anchor=(1.05, 1), loc=2, borderaxespad=0.)\n",
    "plt.xlim(-0.01*pass_max, 1.01*pass_max)\n",
    "plt.grid()\n",
    "plt.title('Logistic regression (PIM: w/o counting full gradient)')\n",
    "plt.xlabel('Effective pass (iteration / #sample)')\n",
    "plt.ylabel('Training loss')\n",
    "\n",
    "\n",
    "# Classification error\n",
    "_result_ = 'trn_err'\n",
    "plt.figure()\n",
    "plt.semilogy(update_history['GD']['effective pass'], update_history['GD'][_result_], 'r--', label='GD')\n",
    "for m in ['n','n/2','n/4','n/8']:\n",
    "    _key_ = 'svrg ('+m+')'\n",
    "    plt.semilogy(update_history[_key_]['effective pass (PIM)'], update_history[_key_][_result_], label=_key_)\n",
    "plt.legend(bbox_to_anchor=(1.05, 1), loc=2, borderaxespad=0.)\n",
    "plt.xlim(-0.01*pass_max, 1.01*pass_max)\n",
    "plt.grid()\n",
    "plt.title('Logistic regression (PIM: w/o counting full gradient)')\n",
    "plt.xlabel('Effective pass (iteration / #sample)')\n",
    "plt.ylabel('Training error')\n",
    "\n",
    "\n",
    "# Norm of gradient\n",
    "_result_ = 'norm_grad'\n",
    "plt.figure()\n",
    "plt.semilogy(update_history['GD']['effective pass'], update_history['GD'][_result_], 'r--', label='GD')\n",
    "for m in ['n','n/2','n/4','n/8']:\n",
    "    _key_ = 'svrg ('+m+')'\n",
    "    plt.semilogy(update_history[_key_]['effective pass (PIM)'], update_history[_key_][_result_], label=_key_)\n",
    "plt.semilogy([-0.01*pass_max, 1.01*pass_max],\n",
    "         [param_method['epsilon'],param_method['epsilon']], 'r-.',label=r'Thre. of $\\| \\nabla f(w) \\|$')\n",
    "plt.legend(bbox_to_anchor=(1.05, 1), loc=2, borderaxespad=0.)\n",
    "plt.xlim(-0.01*pass_max, 1.01*pass_max)\n",
    "plt.ylim(bottom=param_method['epsilon']/2)\n",
    "plt.grid()\n",
    "plt.title('Logistic regression (PIM: w/o counting full gradient)')\n",
    "plt.xlabel('Effective pass (iteration / #sample)')\n",
    "plt.ylabel(r'$\\| \\nabla f(w) \\|$')"
   ]
  },
  {
   "cell_type": "code",
   "execution_count": null,
   "metadata": {
    "collapsed": true
   },
   "outputs": [],
   "source": [
    "param_method['step-size'] = 1e-4\n",
    "# Stochastic gradient\n",
    "sgd = FOM.FirstOrderMethod(problem, 'sgd', param_method)\n",
    "# Do optimization\n",
    "sgd.do_optimization()"
   ]
  },
  {
   "cell_type": "code",
   "execution_count": 43,
   "metadata": {
    "collapsed": false
   },
   "outputs": [],
   "source": [
    "if __name__ == '__main__':\n",
    "    main()"
   ]
  },
  {
   "cell_type": "code",
   "execution_count": 26,
   "metadata": {
    "collapsed": false
   },
   "outputs": [
    {
     "data": {
      "text/plain": [
       "{'n_grad_comp': [0,\n",
       "  20242,\n",
       "  40484,\n",
       "  60726,\n",
       "  80968,\n",
       "  101210,\n",
       "  121452,\n",
       "  141694,\n",
       "  161936,\n",
       "  182178,\n",
       "  202420,\n",
       "  222662],\n",
       " 'norm_grad': [0.030613451312589628,\n",
       "  0.03008507692876905,\n",
       "  0.029569467017598338,\n",
       "  0.029066692991126443,\n",
       "  0.028576747317357803,\n",
       "  0.028099554293978608,\n",
       "  0.027634980356983238,\n",
       "  0.027182843711322225,\n",
       "  0.026742923147662651,\n",
       "  0.02631496597342594,\n",
       "  0.02589869503698005,\n",
       "  0.025493814861938909],\n",
       " 'trn_err': [0.48172117379705565,\n",
       "  0.074646774034186347,\n",
       "  0.074745578500148208,\n",
       "  0.074844382966110068,\n",
       "  0.074646774034186347,\n",
       "  0.074449165102262627,\n",
       "  0.07375753384052959,\n",
       "  0.07351052267562494,\n",
       "  0.073312913743701219,\n",
       "  0.073164707044758429,\n",
       "  0.072868293646872834,\n",
       "  0.072769489180910973],\n",
       " 'trn_loss': [0.69314718055994529,\n",
       "  0.68385635277805279,\n",
       "  0.67488293100762209,\n",
       "  0.66621387122443043,\n",
       "  0.6578364928533923,\n",
       "  0.64973851434310304,\n",
       "  0.64190807902509983,\n",
       "  0.63433377242729949,\n",
       "  0.6270046322221513,\n",
       "  0.61991015195109089,\n",
       "  0.61304027959317575,\n",
       "  0.60638541195036166],\n",
       " 'tst_err': [],\n",
       " 'tst_loss': []}"
      ]
     },
     "execution_count": 26,
     "metadata": {},
     "output_type": "execute_result"
    }
   ],
   "source": [
    "fgd.results"
   ]
  }
 ],
 "metadata": {
  "kernelspec": {
   "display_name": "Python 2",
   "language": "python",
   "name": "python2"
  },
  "language_info": {
   "codemirror_mode": {
    "name": "ipython",
    "version": 2
   },
   "file_extension": ".py",
   "mimetype": "text/x-python",
   "name": "python",
   "nbconvert_exporter": "python",
   "pygments_lexer": "ipython2",
   "version": "2.7.11"
  }
 },
 "nbformat": 4,
 "nbformat_minor": 0
}
