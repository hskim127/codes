{
 "cells": [
  {
   "cell_type": "code",
   "execution_count": 2,
   "metadata": {
    "collapsed": false
   },
   "outputs": [],
   "source": [
    "import numpy as np\n",
    "import scipy as sp\n",
    "import pandas as pd\n",
    "get_ipython().magic(u'matplotlib inline')\n",
    "import matplotlib.pyplot as plt\n",
    "%matplotlib inline\n",
    "from numpy import linalg as LA\n",
    "\n",
    "import time\n",
    "\n",
    "import logistic_regression as LR\n",
    "import first_order_method as FOM\n",
    "\n",
    "import sys\n",
    "sys.path.insert(0, '/Users/HKim/Desktop/Research/Experiments/libsvm-weights-3.20/python')\n",
    "from svm import *\n",
    "from svmutil import *"
   ]
  },
  {
   "cell_type": "code",
   "execution_count": 3,
   "metadata": {
    "collapsed": false
   },
   "outputs": [
    {
     "data": {
      "text/html": [
       "<div>\n",
       "<table border=\"1\" class=\"dataframe\">\n",
       "  <thead>\n",
       "    <tr style=\"text-align: right;\">\n",
       "      <th></th>\n",
       "      <th>file name</th>\n",
       "      <th># samples (before removing empty rows)</th>\n",
       "      <th># samples (after removing empty rows)</th>\n",
       "      <th># features</th>\n",
       "      <th>classes</th>\n",
       "      <th># classes</th>\n",
       "      <th>normalized</th>\n",
       "      <th>sparse</th>\n",
       "      <th>comment</th>\n",
       "    </tr>\n",
       "  </thead>\n",
       "  <tbody>\n",
       "    <tr>\n",
       "      <th>0</th>\n",
       "      <td>news20.binary</td>\n",
       "      <td>19996</td>\n",
       "      <td>19954</td>\n",
       "      <td>1355191</td>\n",
       "      <td>[1.0, -1.0]</td>\n",
       "      <td>2</td>\n",
       "      <td>1</td>\n",
       "      <td>1</td>\n",
       "      <td>NaN</td>\n",
       "    </tr>\n",
       "    <tr>\n",
       "      <th>1</th>\n",
       "      <td>covtype.libsvm.binary</td>\n",
       "      <td>581012</td>\n",
       "      <td>581012</td>\n",
       "      <td>54</td>\n",
       "      <td>[1.0, 2.0]</td>\n",
       "      <td>2</td>\n",
       "      <td>0</td>\n",
       "      <td>1</td>\n",
       "      <td>NaN</td>\n",
       "    </tr>\n",
       "    <tr>\n",
       "      <th>2</th>\n",
       "      <td>covtype.libsvm.binary.scale</td>\n",
       "      <td>581012</td>\n",
       "      <td>581012</td>\n",
       "      <td>54</td>\n",
       "      <td>[1.0, 2.0]</td>\n",
       "      <td>2</td>\n",
       "      <td>0</td>\n",
       "      <td>1</td>\n",
       "      <td>Different from covtype.binary: every feature i...</td>\n",
       "    </tr>\n",
       "    <tr>\n",
       "      <th>3</th>\n",
       "      <td>real-sim</td>\n",
       "      <td>72309</td>\n",
       "      <td>72201</td>\n",
       "      <td>20958</td>\n",
       "      <td>[1.0, -1.0]</td>\n",
       "      <td>2</td>\n",
       "      <td>1</td>\n",
       "      <td>1</td>\n",
       "      <td>NaN</td>\n",
       "    </tr>\n",
       "    <tr>\n",
       "      <th>4</th>\n",
       "      <td>rcv1_train.binary</td>\n",
       "      <td>20242</td>\n",
       "      <td>20242</td>\n",
       "      <td>47236</td>\n",
       "      <td>[1.0, -1.0]</td>\n",
       "      <td>2</td>\n",
       "      <td>1</td>\n",
       "      <td>1</td>\n",
       "      <td>NaN</td>\n",
       "    </tr>\n",
       "    <tr>\n",
       "      <th>5</th>\n",
       "      <td>rcv1_test.binary</td>\n",
       "      <td>677399</td>\n",
       "      <td>677399</td>\n",
       "      <td>47236</td>\n",
       "      <td>[1.0, -1.0]</td>\n",
       "      <td>2</td>\n",
       "      <td>1</td>\n",
       "      <td>1</td>\n",
       "      <td>NaN</td>\n",
       "    </tr>\n",
       "    <tr>\n",
       "      <th>6</th>\n",
       "      <td>w1a</td>\n",
       "      <td>2477</td>\n",
       "      <td>2270</td>\n",
       "      <td>300</td>\n",
       "      <td>[1.0, -1.0]</td>\n",
       "      <td>2</td>\n",
       "      <td>0</td>\n",
       "      <td>1</td>\n",
       "      <td>NaN</td>\n",
       "    </tr>\n",
       "  </tbody>\n",
       "</table>\n",
       "</div>"
      ],
      "text/plain": [
       "                     file name  # samples (before removing empty rows)  \\\n",
       "0                news20.binary                                   19996   \n",
       "1        covtype.libsvm.binary                                  581012   \n",
       "2  covtype.libsvm.binary.scale                                  581012   \n",
       "3                     real-sim                                   72309   \n",
       "4            rcv1_train.binary                                   20242   \n",
       "5             rcv1_test.binary                                  677399   \n",
       "6                          w1a                                    2477   \n",
       "\n",
       "   # samples (after removing empty rows)  # features      classes  # classes  \\\n",
       "0                                  19954     1355191  [1.0, -1.0]          2   \n",
       "1                                 581012          54   [1.0, 2.0]          2   \n",
       "2                                 581012          54   [1.0, 2.0]          2   \n",
       "3                                  72201       20958  [1.0, -1.0]          2   \n",
       "4                                  20242       47236  [1.0, -1.0]          2   \n",
       "5                                 677399       47236  [1.0, -1.0]          2   \n",
       "6                                   2270         300  [1.0, -1.0]          2   \n",
       "\n",
       "   normalized  sparse                                            comment  \n",
       "0           1       1                                                NaN  \n",
       "1           0       1                                                NaN  \n",
       "2           0       1  Different from covtype.binary: every feature i...  \n",
       "3           1       1                                                NaN  \n",
       "4           1       1                                                NaN  \n",
       "5           1       1                                                NaN  \n",
       "6           0       1                                                NaN  "
      ]
     },
     "execution_count": 3,
     "metadata": {},
     "output_type": "execute_result"
    }
   ],
   "source": [
    "xx = pd.read_csv('../dataset/original/dataset_statistics.csv')\n",
    "xx"
   ]
  },
  {
   "cell_type": "code",
   "execution_count": 4,
   "metadata": {
    "collapsed": true
   },
   "outputs": [],
   "source": [
    "def compute_2norm_row(X):\n",
    "    X_tmp = X.copy()\n",
    "    X_tmp.data **= 2\n",
    "    norm_y = sp.sqrt(X_tmp.sum(1))\n",
    "    return sp.sqrt(X_tmp.sum(1))"
   ]
  },
  {
   "cell_type": "code",
   "execution_count": 5,
   "metadata": {
    "collapsed": false
   },
   "outputs": [],
   "source": [
    "def normalize_row(X):\n",
    "    row_norm = compute_2norm_row(X)\n",
    "    return sp.sparse.diags([1.0/n[0] for n in row_norm])*X"
   ]
  },
  {
   "cell_type": "code",
   "execution_count": 6,
   "metadata": {
    "collapsed": false
   },
   "outputs": [],
   "source": [
    "def data_parsing(X,y):\n",
    "    # Removing empty data\n",
    "    empty_idx = []\n",
    "    for i in xrange(len(X)):\n",
    "        if len(X[i].keys()) == 0:\n",
    "            empty_idx.append(i)\n",
    "            continue\n",
    "    n_deleted = 0\n",
    "    for idx in empty_idx:\n",
    "        del X[idx-n_deleted]\n",
    "        del y[idx-n_deleted]\n",
    "        n_deleted += 1\n",
    "\n",
    "    # The number of samples\n",
    "    n_samples = len(X)\n",
    "\n",
    "    # Feature dimension\n",
    "    dim = max([max(xi.keys()) for xi in X])\n",
    "    \n",
    "    # Convert from dictionary to a scipy sparse row matrix\n",
    "    XX = sp.sparse.dok_matrix((n_samples,dim), dtype=float)\n",
    "    for i in range(len(X)):\n",
    "        for key, value in X[i].iteritems():\n",
    "            XX[i,key-1] = value\n",
    "    XX = XX.tocsr()\n",
    "    \n",
    "    # Normalize feature vectors\n",
    "    XX = normalize_row(XX)\n",
    "    return XX, y"
   ]
  },
  {
   "cell_type": "code",
   "execution_count": 7,
   "metadata": {
    "collapsed": false
   },
   "outputs": [],
   "source": [
    "# def main():\n",
    "# Read the data\n",
    "y_trn, X_trn = svm_read_problem('/Users/HKim/Desktop/Research/Experiments/dataset/w1a')\n",
    "y_tst, X_tst = svm_read_problem('/Users/HKim/Desktop/Research/Experiments/dataset/w1a.t')\n",
    "# y_trn, X_trn = svm_read_problem('/Users/HKim/Desktop/Research/Experiments/dataset/rcv1_train.binary')\n",
    "# y_tst, X_tst = svm_read_problem('/Users/HKim/Desktop/Research/Experiments/dataset/rcv1_test.binary')"
   ]
  },
  {
   "cell_type": "code",
   "execution_count": 8,
   "metadata": {
    "collapsed": false
   },
   "outputs": [],
   "source": [
    "X_trn, y_trn = data_parsing(X_trn, y_trn)\n",
    "X_tst, y_tst = data_parsing(X_tst, y_tst)\n",
    "\n",
    "# The number of samples\n",
    "n_sample = X_trn.shape[0]"
   ]
  },
  {
   "cell_type": "code",
   "execution_count": 9,
   "metadata": {
    "collapsed": true
   },
   "outputs": [],
   "source": [
    "# Define the problem: setting the paramters of logistic regression\n",
    "data = {'X_train':X_trn, 'y_train':y_trn, 'X_test': X_tst, 'y_test': y_tst}\n",
    "param_problem = {\"lambda\":8.0/n_sample}"
   ]
  },
  {
   "cell_type": "code",
   "execution_count": 10,
   "metadata": {
    "collapsed": false
   },
   "outputs": [],
   "source": [
    "# Define the solver: setting the paramters of logistic regression\n",
    "param_solver = {\"step-size\":'need to change for each algorithm', \"# max-pass\":1e5, \"epsilon\":1e-4,\n",
    "                \"result_stored\":{'trn_loss':True,'tst_loss':True,'trn_err':True,'tst_err':True,\n",
    "                                 'norm_grad':True,'n_grad_comp':True}}"
   ]
  },
  {
   "cell_type": "code",
   "execution_count": 11,
   "metadata": {
    "collapsed": false
   },
   "outputs": [],
   "source": [
    "# Generate a logistic-regression object.\n",
    "problem = LR.BinaryLogisticRegression(data, param_problem)"
   ]
  },
  {
   "cell_type": "code",
   "execution_count": 12,
   "metadata": {
    "collapsed": true
   },
   "outputs": [],
   "source": [
    "# step-size for GD\n",
    "eta_gd = 1.0\n",
    "param_solver['step-size'] = eta_gd"
   ]
  },
  {
   "cell_type": "code",
   "execution_count": 13,
   "metadata": {
    "collapsed": true
   },
   "outputs": [],
   "source": [
    "# Generate a solver object: ((full) gradient descent algorithm)\n",
    "fgd = FOM.FirstOrderMethod(problem, 'fgd', param_solver)"
   ]
  },
  {
   "cell_type": "code",
   "execution_count": 14,
   "metadata": {
    "collapsed": true
   },
   "outputs": [],
   "source": [
    "# Do optimization: Solve via the (full) gradient descent algorithm\n",
    "fgd.do_optimization()"
   ]
  },
  {
   "cell_type": "code",
   "execution_count": 16,
   "metadata": {
    "collapsed": false
   },
   "outputs": [],
   "source": [
    "# step-size for SVRG\n",
    "eta_svrg = 0.5\n",
    "param_solver['step-size'] = eta_svrg"
   ]
  },
  {
   "cell_type": "code",
   "execution_count": 17,
   "metadata": {
    "collapsed": true
   },
   "outputs": [],
   "source": [
    "# Generate a solver object: (SVRG)\n",
    "svrg = []\n",
    "problem = LR.BinaryLogisticRegression(data, param_problem)\n",
    "svrg.append(FOM.FirstOrderMethod(problem, 'svrg', param_solver))\n",
    "svrg[-1].set_epoch_size(problem.get_n_sample()) # m=n\n",
    "problem = LR.BinaryLogisticRegression(data, param_problem)\n",
    "svrg.append(FOM.FirstOrderMethod(problem, 'svrg', param_solver))\n",
    "svrg[-1].set_epoch_size(problem.get_n_sample()/2) # m=n/2\n",
    "problem = LR.BinaryLogisticRegression(data, param_problem)\n",
    "svrg.append(FOM.FirstOrderMethod(problem, 'svrg', param_solver))\n",
    "svrg[-1].set_epoch_size(problem.get_n_sample()/4) # m=n/4\n",
    "problem = LR.BinaryLogisticRegression(data, param_problem)\n",
    "svrg.append(FOM.FirstOrderMethod(problem, 'svrg', param_solver))\n",
    "svrg[-1].set_epoch_size(problem.get_n_sample()/8) # m=n/8"
   ]
  },
  {
   "cell_type": "code",
   "execution_count": 18,
   "metadata": {
    "collapsed": false
   },
   "outputs": [
    {
     "name": "stdout",
     "output_type": "stream",
     "text": [
      "epoch size: n 8.22595787048\n",
      "epoch size: n/2 7.65070295334\n",
      "epoch size: n/4 8.63430213928\n",
      "epoch size: n/8 8.16251707077\n"
     ]
    }
   ],
   "source": [
    "# Do optimization\n",
    "epoch_sizes = ['n','n/2','n/4','n/8']\n",
    "svrg = dict(zip(epoch_sizes, svrg))\n",
    "for _key_ in epoch_sizes:\n",
    "    svrg[_key_].do_optimization()"
   ]
  },
  {
   "cell_type": "code",
   "execution_count": 19,
   "metadata": {
    "collapsed": false
   },
   "outputs": [],
   "source": [
    "# Reshape Update History --> pandas dataframe\n",
    "update_history = []\n",
    "gd_history = [('Algorithm', ['GD' for i in fgd.results[fgd.results.keys()[0]]])]\n",
    "for key2, val2 in fgd.results.iteritems():\n",
    "    if len(val2): # check if the item is empty or not\n",
    "        if key2 is 'n_grad_comp':\n",
    "            key_tmp = 'effective pass'\n",
    "            val_tmp = [i/float(n_sample) for i in val2]\n",
    "        else:\n",
    "            key_tmp = key2\n",
    "            val_tmp = val2\n",
    "        gd_history += [(key_tmp,val_tmp)]\n",
    "\n",
    "# gd_history += [(key,val) for key,val in fgd.results.iteritems() if len(val)]\n",
    "update_history.append(('GD', pd.DataFrame.from_items(gd_history)))\n",
    "\n",
    "for key in epoch_sizes:\n",
    "    val = svrg[key]\n",
    "    svrg_history = [('Algorithm', ['SVRG (m='+key+')' for i in val.results[val.results.keys()[0]]])]\n",
    "    for key2, val2 in val.results.iteritems():\n",
    "        if len(val2): # check if the item is empty or not\n",
    "            if key2 is 'n_grad_comp':\n",
    "                effective_pass = [i/float(n_sample) for i in val2]\n",
    "                svrg_history += [('effective pass',effective_pass)]\n",
    "                \n",
    "                # Start computation for PIM\n",
    "                # Compute # of gradient computations when the computations of full gradient is not taken into account.\n",
    "                val2\n",
    "                effective_pass = []\n",
    "                nn = 0\n",
    "                for _n_grad_comp_ in val2:\n",
    "                    effective_pass.append((_n_grad_comp_+nn)/float(n_sample))\n",
    "                    nn -= n_sample\n",
    "                # End computation for PIM\n",
    "                svrg_history += [('effective pass (PIM)',effective_pass)]\n",
    "            else:\n",
    "                key_tmp = key2\n",
    "                val_tmp = val2\n",
    "                svrg_history += [(key_tmp,val_tmp)]\n",
    "    update_history.append(('svrg ('+key+')', pd.DataFrame.from_items(svrg_history)))\n",
    "    \n",
    "update_history = dict(update_history)"
   ]
  },
  {
   "cell_type": "code",
   "execution_count": 21,
   "metadata": {
    "collapsed": false
   },
   "outputs": [],
   "source": [
    "# Save the file in log\n",
    "update_history['GD']\n",
    "frames = [update_history['svrg (n)'], update_history['svrg (n/2)'],\n",
    "          update_history['svrg (n/4)'], update_history['svrg (n/8)'], update_history['GD']]\n",
    "\n",
    "\n",
    "folder = '../log/'\n",
    "dataset = 'w1a'\n",
    "file_name = folder+dataset+'_lam('+str(param_problem[\"lambda\"]*n_sample)+'_n)_etaGD('+str(eta_gd)+')_etaSVRG('+str(eta_svrg)+').csv'\n",
    "\n",
    "\n",
    "result = pd.concat(frames)\n",
    "result.to_csv(file_name, index=False)"
   ]
  },
  {
   "cell_type": "code",
   "execution_count": 22,
   "metadata": {
    "collapsed": false
   },
   "outputs": [
    {
     "data": {
      "text/plain": [
       "<matplotlib.text.Text at 0x117338d10>"
      ]
     },
     "execution_count": 22,
     "metadata": {},
     "output_type": "execute_result"
    },
    {
     "data": {
      "image/png": "[encoded data removed]",
      "text/plain": [
       "<matplotlib.figure.Figure at 0x11308f9d0>"
      ]
     },
     "metadata": {},
     "output_type": "display_data"
    },
    {
     "data": {
      "image/png": "[encoded data removed]",
      "text/plain": [
       "<matplotlib.figure.Figure at 0x11d49b910>"
      ]
     },
     "metadata": {},
     "output_type": "display_data"
    },
    {
     "data": {
      "image/png": "[encoded data removed]",
      "text/plain": [
       "<matplotlib.figure.Figure at 0x11d49b8d0>"
      ]
     },
     "metadata": {},
     "output_type": "display_data"
    },
    {
     "data": {
      "image/png": "[encoded data removed]",
      "text/plain": [
       "<matplotlib.figure.Figure at 0x11c672f10>"
      ]
     },
     "metadata": {},
     "output_type": "display_data"
    }
   ],
   "source": [
    "pass_max = max([i['effective pass'].values[-1] for i in update_history.values()])\n",
    "\n",
    "# Loss\n",
    "_result_ = 'trn_loss'\n",
    "plt.figure()\n",
    "plt.loglog(update_history['GD']['effective pass'], update_history['GD'][_result_], 'r--', label='GD')\n",
    "for m in ['n','n/2','n/4','n/8']:\n",
    "    _key_ = 'svrg ('+m+')'\n",
    "    plt.loglog(update_history[_key_]['effective pass'], update_history[_key_][_result_], label=_key_)\n",
    "plt.legend(bbox_to_anchor=(1.05, 1), loc=2, borderaxespad=0.)\n",
    "plt.xlim(-0.01*pass_max, 1.01*pass_max)\n",
    "plt.grid()\n",
    "plt.title('Logistic regression')\n",
    "plt.xlabel('Effective pass (iteration / #sample)')\n",
    "plt.ylabel('Training loss')\n",
    "\n",
    "# Loss (PIM)\n",
    "_result_ = 'trn_loss'\n",
    "plt.figure()\n",
    "idx_tmp = update_history['GD']['effective pass'] <= param_solver[\"# max-pass\"]\n",
    "x = update_history['GD']['effective pass'][idx_tmp]\n",
    "y = update_history['GD'][_result_][idx_tmp]\n",
    "\n",
    "# plt.loglog(x, y, 'r--', label='GD')\n",
    "for m in ['n','n/2','n/4','n/8']:\n",
    "    _key_ = 'svrg ('+m+')'\n",
    "    idx_tmp = update_history[_key_]['effective pass (PIM)'] <= param_solver[\"# max-pass\"]\n",
    "    x = update_history[_key_]['effective pass (PIM)'][idx_tmp]\n",
    "    y = update_history[_key_][_result_][idx_tmp]\n",
    "    plt.loglog(x,y, label=_key_)\n",
    "plt.legend(bbox_to_anchor=(1.05, 1), loc=2, borderaxespad=0.)\n",
    "# plt.xlim(-0.01*pass_max, 1.01*pass_max)\n",
    "# plt.ylim(3.5e-1,1e0)\n",
    "plt.grid()\n",
    "plt.title('Logistic regression (PIM: w/o counting full gradient)')\n",
    "plt.xlabel('Effective pass (iteration / #sample)')\n",
    "plt.ylabel('Training loss')\n",
    "\n",
    "\n",
    "# Classification error\n",
    "_result_ = 'trn_err'\n",
    "plt.figure()\n",
    "plt.loglog(update_history['GD']['effective pass'], update_history['GD'][_result_], 'r--', label='GD')\n",
    "for m in ['n','n/2','n/4','n/8']:\n",
    "    _key_ = 'svrg ('+m+')'\n",
    "    idx_tmp = update_history[_key_]['effective pass (PIM)'] <= param_solver[\"# max-pass\"]\n",
    "    x = update_history[_key_]['effective pass (PIM)'][idx_tmp]\n",
    "    y = update_history[_key_][_result_][idx_tmp]\n",
    "    plt.loglog(x,y, label=_key_)\n",
    "plt.legend(bbox_to_anchor=(1.05, 1), loc=2, borderaxespad=0.)\n",
    "# plt.xlim(-0.01*pass_max, 1.01*pass_max)\n",
    "plt.grid()\n",
    "plt.title('Logistic regression (PIM: w/o counting full gradient)')\n",
    "plt.xlabel('Effective pass (iteration / #sample)')\n",
    "plt.ylabel('Training error')\n",
    "\n",
    "\n",
    "# Norm of gradient\n",
    "_result_ = 'norm_grad'\n",
    "plt.figure()\n",
    "plt.loglog(update_history['GD']['effective pass'], update_history['GD'][_result_], 'r--', label='GD')\n",
    "for m in ['n','n/2','n/4','n/8']:\n",
    "    _key_ = 'svrg ('+m+')'\n",
    "    plt.loglog(update_history[_key_]['effective pass (PIM)'], update_history[_key_][_result_], label=_key_)\n",
    "# plt.loglog([-0.01*pass_max, 1.01*pass_max],\n",
    "#          [param_solver['epsilon'],param_solver['epsilon']], 'r-.',label=r'Thre. of $\\| \\nabla f(w) \\|$')\n",
    "plt.legend(bbox_to_anchor=(1.05, 1), loc=2, borderaxespad=0.)\n",
    "# plt.xlim(-0.01*pass_max, 1.01*pass_max)\n",
    "# plt.ylim(bottom=param_solver['epsilon']/2)\n",
    "plt.grid()\n",
    "plt.title('Logistic regression (PIM: w/o counting full gradient)')\n",
    "plt.xlabel('Effective pass (iteration / #sample)')\n",
    "plt.ylabel(r'$\\| \\nabla f(w) \\|$')"
   ]
  },
  {
   "cell_type": "code",
   "execution_count": 43,
   "metadata": {
    "collapsed": false
   },
   "outputs": [],
   "source": [
    "# if __name__ == '__main__':\n",
    "#     main()"
   ]
  }
 ],
 "metadata": {
  "kernelspec": {
   "display_name": "Python 2",
   "language": "python",
   "name": "python2"
  },
  "language_info": {
   "codemirror_mode": {
    "name": "ipython",
    "version": 2
   },
   "file_extension": ".py",
   "mimetype": "text/x-python",
   "name": "python",
   "nbconvert_exporter": "python",
   "pygments_lexer": "ipython2",
   "version": "2.7.11"
  }
 },
 "nbformat": 4,
 "nbformat_minor": 0
}
